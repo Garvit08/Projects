{
 "cells": [
  {
   "cell_type": "code",
   "execution_count": 33,
   "metadata": {},
   "outputs": [],
   "source": [
    "from tkinter import *\n",
    "from tkinter import ttk"
   ]
  },
  {
   "cell_type": "code",
   "execution_count": 93,
   "metadata": {},
   "outputs": [],
   "source": [
    "root=Tk()\n",
    "x= ''\n",
    "var=StringVar()\n",
    "def var_set(v):\n",
    "    global x\n",
    "    x +=v \n",
    "    var.set(x)\n",
    "def eval_fun():\n",
    "    r = e.get()\n",
    "    var.set(eval(r))\n",
    "def clr_fun():\n",
    "    global x\n",
    "    x=''\n",
    "    var.set('')\n",
    "def bk_sp():\n",
    "    global x \n",
    "    x=x[:1]\n",
    "    var.set(x)\n",
    "e=Entry(root,textvariable=var,width=50,bg='#000000',fg='#321321',relief=RIDGE,bd=23)\n",
    "e.grid(row=0,column=0,columnspan=3,sticky='WE')\n",
    "bk=Button(root,text='DEL',command=lambda:bk_sp(),width=16,height=3,bg='#666666',fg='#FFFFFF',relief=RIDGE,bd=5)\n",
    "bclr=Button(root,text='CLR',command=lambda:clr_fun(),width=16,height=3,bg='#666666',fg='#FFFFFF',relief=RIDGE,bd=5)\n",
    "bq=Button(root,text='QUIT',command=lambda:root.destroy(),width=16,height=3,bg='#666666',fg='#FFFFFF',relief=RIDGE,bd=5)\n",
    "bk.grid(row=0,column=3)\n",
    "bclr.grid(row=5,column=1)\n",
    "bq.grid(row=5,column=0)"
   ]
  },
  {
   "cell_type": "code",
   "execution_count": 94,
   "metadata": {},
   "outputs": [],
   "source": [
    "b9=Button(root,text='9',command=lambda:var_set('9'),width=16,height=2,bg='#666666',fg='#FFFFFF',relief=RIDGE,bd=5)\n",
    "b8=Button(root,text='8',command=lambda:var_set('8'),width=16,height=2,bg='#666666',fg='#FFFFFF',relief=RIDGE,bd=5)\n",
    "b7=Button(root,text='7',command=lambda:var_set('7'),width=16,height=2,bg='#666666',fg='#FFFFFF',relief=RIDGE,bd=5)\n",
    "b6=Button(root,text='6',command=lambda:var_set('6'),width=16,height=2,bg='#666666',fg='#FFFFFF',relief=RIDGE,bd=5)\n",
    "b5=Button(root,text='5',command=lambda:var_set('5'),width=16,height=2,bg='#666666',fg='#FFFFFF',relief=RIDGE,bd=5)\n",
    "b4=Button(root,text='4',command=lambda:var_set('4'),width=16,height=2,bg='#666666',fg='#FFFFFF',relief=RIDGE,bd=5)\n",
    "b3=Button(root,text='3',command=lambda:var_set('3'),width=16,height=2,bg='#666666',fg='#FFFFFF',relief=RIDGE,bd=5)\n",
    "b2=Button(root,text='2',command=lambda:var_set('2'),width=16,height=2,bg='#666666',fg='#FFFFFF',relief=RIDGE,bd=5)\n",
    "b1=Button(root,text='1',command=lambda:var_set('1'),width=16,height=2,bg='#666666',fg='#FFFFFF',relief=RIDGE,bd=5)\n",
    "b0=Button(root,text='0',command=lambda:var_set('0'),width=16,height=2,bg='#666666',fg='#FFFFFF',relief=RIDGE,bd=5)\n",
    "b9.grid(row=1,column=0)\n",
    "b8.grid(row=1,column=1)\n",
    "b7.grid(row=1,column=2)\n",
    "b6.grid(row=2,column=0)\n",
    "b5.grid(row=2,column=1)\n",
    "b4.grid(row=2,column=2)\n",
    "b3.grid(row=3,column=0)\n",
    "b2.grid(row=3,column=1)\n",
    "b1.grid(row=3,column=2)\n",
    "b0.grid(row=4,column=1)"
   ]
  },
  {
   "cell_type": "code",
   "execution_count": 95,
   "metadata": {},
   "outputs": [],
   "source": [
    "bb=Button(root,text='.',command=lambda:var_set('.'),width=16,height=2,bg='#666666',fg='#FFFFFF',relief=RIDGE,bd=5)\n",
    "be=Button(root,text='=',command=lambda:eval_fun(),width=16,height=2,bg='#666666',fg='#FFFFFF',relief=RIDGE,bd=5)\n",
    "bp=Button(root,text='+',command=lambda:var_set('+'),width=16,height=2,bg='#666666',fg='#FFFFFF',relief=RIDGE,bd=5)\n",
    "bs=Button(root,text='-',command=lambda:var_set('-'),width=16,height=2,bg='#666666',fg='#FFFFFF',relief=RIDGE,bd=5)\n",
    "bm=Button(root,text='*',command=lambda:var_set('*'),width=16,height=2,bg='#666666',fg='#FFFFFF',relief=RIDGE,bd=5)\n",
    "bd=Button(root,text='/',command=lambda:var_set('/'),width=16,height=2,bg='#666666',fg='#FFFFFF',relief=RIDGE,bd=5)\n",
    "bex=Button(root,text='**',command=lambda:var_set('**'),width=16,height=3,bg='#666666',fg='#FFFFFF',relief=RIDGE,bd=5)\n",
    "bmo=Button(root,text='%',command=lambda:var_set('%'),width=16,height=3,bg='#666666',fg='#FFFFFF',relief=RIDGE,bd=5)\n",
    "bb.grid(row=4,column=0)\n",
    "be.grid(row=4,column=2)\n",
    "bp.grid(row=1,column=3)\n",
    "bs.grid(row=2,column=3)\n",
    "bm.grid(row=3,column=3)\n",
    "bd.grid(row=4,column=3)\n",
    "bex.grid(row=5,column=2)\n",
    "bmo.grid(row=5,column=3)\n",
    "root.wm_title(\"BASIC CALCULATOR\")\n",
    "root.wm_resizable(0,0)\n",
    "root.bell()\n",
    "mainloop()"
   ]
  },
  {
   "cell_type": "code",
   "execution_count": null,
   "metadata": {},
   "outputs": [],
   "source": []
  },
  {
   "cell_type": "code",
   "execution_count": 72,
   "metadata": {},
   "outputs": [],
   "source": []
  },
  {
   "cell_type": "code",
   "execution_count": null,
   "metadata": {},
   "outputs": [],
   "source": []
  },
  {
   "cell_type": "code",
   "execution_count": 74,
   "metadata": {},
   "outputs": [],
   "source": []
  },
  {
   "cell_type": "code",
   "execution_count": null,
   "metadata": {},
   "outputs": [],
   "source": []
  },
  {
   "cell_type": "code",
   "execution_count": null,
   "metadata": {},
   "outputs": [],
   "source": []
  },
  {
   "cell_type": "code",
   "execution_count": null,
   "metadata": {},
   "outputs": [],
   "source": []
  },
  {
   "cell_type": "code",
   "execution_count": null,
   "metadata": {},
   "outputs": [],
   "source": []
  }
 ],
 "metadata": {
  "kernelspec": {
   "display_name": "Python 3",
   "language": "python",
   "name": "python3"
  },
  "language_info": {
   "codemirror_mode": {
    "name": "ipython",
    "version": 3
   },
   "file_extension": ".py",
   "mimetype": "text/x-python",
   "name": "python",
   "nbconvert_exporter": "python",
   "pygments_lexer": "ipython3",
   "version": "3.6.7"
  }
 },
 "nbformat": 4,
 "nbformat_minor": 2
}
