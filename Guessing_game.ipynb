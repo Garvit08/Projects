{
 "cells": [
  {
   "cell_type": "code",
   "execution_count": 3,
   "metadata": {},
   "outputs": [
    {
     "name": "stdout",
     "output_type": "stream",
     "text": [
      "5 chance's remaining\n",
      "enter your no. (1,50)25\n",
      "Your are going too high, lower your thinking \n",
      "4 chance's remaining\n",
      "enter your no. (1,50)12\n",
      "Your are going too high, lower your thinking \n",
      "3 chance's remaining\n",
      "enter your no. (1,50)6\n",
      "why are you thinking so  low, think big\n",
      "2 chance's remaining\n",
      "enter your no. (1,50)9\n",
      "Your are going too high, lower your thinking \n",
      "1 chance's remaining\n",
      "enter your no. (1,50)8\n",
      "Whoa!, You are a winner\n"
     ]
    }
   ],
   "source": [
    "from random import randint \n",
    "c= randint(1,50)\n",
    "#print(\"the computer no. is: {}\".format(c) )#\n",
    "x=5\n",
    "\n",
    "while x>=1:\n",
    "    print(\"{} chance's remaining\".format(x))\n",
    "    a=int(input(\"enter your no. (1,50)\"))\n",
    "    if (a<c):\n",
    "        print (\"why are you thinking so  low, think big\")\n",
    "    elif (a>c):\n",
    "        print (\"Your are going too high, lower your thinking \")\n",
    "    else :\n",
    "        print (\"Whoa!, You are a winner\")\n",
    "        break\n",
    "    x= x-1\n",
    "if x<1:\n",
    "    print(\"You loose this time but surely next time u will win \")\n",
    "    print(\"the computers no. was {}\".format(c))"
   ]
  }
 ],
 "metadata": {
  "kernelspec": {
   "display_name": "Python 3",
   "language": "python",
   "name": "python3"
  }
 },
 "nbformat": 4,
 "nbformat_minor": 2
}
